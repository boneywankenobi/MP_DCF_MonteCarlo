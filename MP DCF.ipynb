{
 "cells": [
  {
   "cell_type": "code",
   "execution_count": 49,
   "metadata": {},
   "outputs": [],
   "source": [
    "import numpy as np\n",
    "import matplotlib.pyplot as plt\n",
    "from matplotlib.pyplot import figure\n"
   ]
  },
  {
   "cell_type": "code",
   "execution_count": 41,
   "metadata": {},
   "outputs": [],
   "source": [
    "def DCF(priceBook : float, initialEPS : float, discount : float, numYears : int, cagrList : list, growthList : list):\n",
    "    dcf = priceBook\n",
    "    currentEPS = initialEPS\n",
    "    year = 1\n",
    "    for cagr, growth in zip(cagrList, growthList):\n",
    "        currentEPS = currentEPS * cagr * growth\n",
    "        dcf = dcf+currentEPS / (discount**year)\n",
    "        year = year+1\n",
    "    return dcf       \n"
   ]
  },
  {
   "cell_type": "code",
   "execution_count": 24,
   "metadata": {},
   "outputs": [
    {
     "data": {
      "image/png": "[encoded data removed]",
      "text/plain": [
       "<Figure size 432x288 with 1 Axes>"
      ]
     },
     "metadata": {
      "needs_background": "light"
     },
     "output_type": "display_data"
    }
   ],
   "source": [
    "mu = 1.6\n",
    "sigma = 0.2\n",
    "s = np.random.normal(mu, sigma, 1000)\n",
    "\n",
    "count, bins, ignored = plt.hist(s, 30, density=True)\n",
    "plt.plot(bins, 1/(sigma * np.sqrt(2 * np.pi)) *\n",
    "               np.exp( - (bins - mu)**2 / (2 * sigma**2) ),\n",
    "         linewidth=2, color='r')\n",
    "plt.show()\n"
   ]
  },
  {
   "cell_type": "code",
   "execution_count": 15,
   "metadata": {},
   "outputs": [],
   "source": [
    "class monteCarloVar:\n",
    "    def __init__(self, mu, sigma, numIter):\n",
    "         self.mu = mu\n",
    "         self.sigma = sigma\n",
    "         self.generateSim(numIter)\n",
    "    def generateSim(self, numIter : int):\n",
    "        self.simVar = np.random.normal(self.mu, self.sigma, numIter)\n",
    "        "
   ]
  },
  {
   "cell_type": "code",
   "execution_count": 44,
   "metadata": {},
   "outputs": [],
   "source": [
    "numIter = 10000\n",
    "cagrList = monteCarloVar(1.08, 0.008, [numIter,10])\n",
    "initialEPS = monteCarloVar(0.47,0.02, numIter)\n",
    "growth2022 = monteCarloVar(1.3,0.1, numIter)\n",
    "growth2023 = monteCarloVar(1.6,0.1, numIter)\n",
    "growth2024 = monteCarloVar(1.3,0.15, numIter)\n",
    "growth2025 = monteCarloVar(1.6,0.2, numIter)\n",
    "growth2026 = monteCarloVar(1.3,0.2, numIter)\n",
    "growth2027 = monteCarloVar(1.1,0.2, numIter)\n",
    "growth2028 = monteCarloVar(1.1,0.2, numIter)\n",
    "growth2029 = monteCarloVar(1.1,0.2, numIter)\n",
    "growth2030 = monteCarloVar(1.1,0.2, numIter)\n",
    "growthBeast = [growth2022,growth2023,growth2024,growth2025,growth2026,growth2027,growth2028,growth2029,growth2030]\n",
    "discount = 1.12\n",
    "priceBook = 6.869303537\n",
    "numYears = 20"
   ]
  },
  {
   "cell_type": "code",
   "execution_count": 45,
   "metadata": {},
   "outputs": [],
   "source": [
    "def monteCarloSim(cagr, initialEPS, discount, growthBeast, priceBook, numYears):\n",
    "    dcfList = []\n",
    "    for i in range(0,numIter):\n",
    "        growthList = []\n",
    "        cagrList = []\n",
    "        for growthYear, cagrVal in zip(growthBeast,cagr.simVar[i,:]):\n",
    "            growthList.append(growthYear.simVar[i])\n",
    "            cagrList.append(cagrVal)\n",
    "        for i in range(0,10):\n",
    "            growthList.append(1)\n",
    "            cagrList.append(1)\n",
    "        \n",
    "        dcf = DCF(priceBook, initialEPS.simVar[i], discount, numYears, cagrList, growthList)\n",
    "        dcfList.append(dcf)\n",
    "    return dcfList\n",
    "    \n",
    "    "
   ]
  },
  {
   "cell_type": "code",
   "execution_count": 46,
   "metadata": {},
   "outputs": [],
   "source": [
    "dcfList = monteCarloSim(cagrList, initialEPS, discount, growthBeast, priceBook, numYears)"
   ]
  },
  {
   "cell_type": "code",
   "execution_count": 51,
   "metadata": {},
   "outputs": [
    {
     "data": {
      "image/png": "[encoded data removed]",
      "text/plain": [
       "<Figure size 432x288 with 1 Axes>"
      ]
     },
     "metadata": {
      "needs_background": "light"
     },
     "output_type": "display_data"
    },
    {
     "data": {
      "text/plain": [
       "<Figure size 960x640 with 0 Axes>"
      ]
     },
     "metadata": {},
     "output_type": "display_data"
    }
   ],
   "source": [
    "count, bins, ignored = plt.hist(dcfList, 100, density=True)\n",
    "figure(figsize=(12, 8), dpi=80)\n",
    "\n",
    "plt.show()"
   ]
  },
  {
   "cell_type": "code",
   "execution_count": null,
   "metadata": {},
   "outputs": [],
   "source": []
  }
 ],
 "metadata": {
  "kernelspec": {
   "display_name": "Python 3",
   "language": "python",
   "name": "python3"
  },
  "language_info": {
   "codemirror_mode": {
    "name": "ipython",
    "version": 3
   },
   "file_extension": ".py",
   "mimetype": "text/x-python",
   "name": "python",
   "nbconvert_exporter": "python",
   "pygments_lexer": "ipython3",
   "version": "3.8.5"
  }
 },
 "nbformat": 4,
 "nbformat_minor": 4
}
